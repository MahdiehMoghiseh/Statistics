{
  "nbformat": 4,
  "nbformat_minor": 5,
  "metadata": {
    "kernelspec": {
      "display_name": "Python 3",
      "language": "python",
      "name": "python3"
    },
    "language_info": {
      "codemirror_mode": {
        "name": "ipython",
        "version": 3
      },
      "file_extension": ".py",
      "mimetype": "text/x-python",
      "name": "python",
      "nbconvert_exporter": "python",
      "pygments_lexer": "ipython3",
      "version": "3.8.8"
    },
    "colab": {
      "name": "numpy.ipynb",
      "provenance": [],
      "include_colab_link": true
    }
  },
  "cells": [
    {
      "cell_type": "markdown",
      "metadata": {
        "id": "view-in-github",
        "colab_type": "text"
      },
      "source": [
        "<a href=\"https://colab.research.google.com/github/ehsansajadi/Statistics_TA/blob/main/Slides%20%26%20Codes/02-numpy%2C%20pandas%2C%20matplotlib/numpy.ipynb\" target=\"_parent\"><img src=\"https://colab.research.google.com/assets/colab-badge.svg\" alt=\"Open In Colab\"/></a>"
      ]
    },
    {
      "cell_type": "code",
      "metadata": {
        "id": "d0c7ae70"
      },
      "source": [
        "import numpy as np"
      ],
      "id": "d0c7ae70",
      "execution_count": null,
      "outputs": []
    },
    {
      "cell_type": "markdown",
      "metadata": {
        "id": "eaf981d0"
      },
      "source": [
        "## Basics"
      ],
      "id": "eaf981d0"
    },
    {
      "cell_type": "code",
      "metadata": {
        "id": "50660e30",
        "outputId": "3eca623c-b02f-47e4-e9b1-711cb748c2ec"
      },
      "source": [
        "a = np.array([1, 2, 3, 4, 5], dtype='float32')\n",
        "print(a.ndim)\n",
        "print(a.shape)\n",
        "a"
      ],
      "id": "50660e30",
      "execution_count": null,
      "outputs": [
        {
          "name": "stdout",
          "output_type": "stream",
          "text": [
            "1\n",
            "(5,)\n"
          ]
        },
        {
          "data": {
            "text/plain": [
              "array([1., 2., 3., 4., 5.], dtype=float32)"
            ]
          },
          "execution_count": 6,
          "metadata": {},
          "output_type": "execute_result"
        }
      ]
    },
    {
      "cell_type": "code",
      "metadata": {
        "id": "a2ffe86a",
        "outputId": "75b475f0-2083-4f30-93b3-642ac65fc957"
      },
      "source": [
        "b = np.array([[1, 2, 3, 4, 5], [6, 7, 8, 9, 10] ])\n",
        "print(b.ndim)\n",
        "print(b.shape)\n",
        "b"
      ],
      "id": "a2ffe86a",
      "execution_count": null,
      "outputs": [
        {
          "name": "stdout",
          "output_type": "stream",
          "text": [
            "2\n",
            "(2, 5)\n"
          ]
        },
        {
          "data": {
            "text/plain": [
              "array([[ 1,  2,  3,  4,  5],\n",
              "       [ 6,  7,  8,  9, 10]])"
            ]
          },
          "execution_count": 20,
          "metadata": {},
          "output_type": "execute_result"
        }
      ]
    },
    {
      "cell_type": "markdown",
      "metadata": {
        "id": "2aee2d57"
      },
      "source": [
        "## Retrieving a specific element"
      ],
      "id": "2aee2d57"
    },
    {
      "cell_type": "code",
      "metadata": {
        "id": "ca5ed510",
        "outputId": "a4bb59fb-5682-4263-e700-17740202d348"
      },
      "source": [
        "b[:, 2]  # getting all elements in the third column"
      ],
      "id": "ca5ed510",
      "execution_count": null,
      "outputs": [
        {
          "data": {
            "text/plain": [
              "array([3, 8])"
            ]
          },
          "execution_count": 21,
          "metadata": {},
          "output_type": "execute_result"
        }
      ]
    },
    {
      "cell_type": "code",
      "metadata": {
        "id": "461d70f6",
        "outputId": "420a80a8-b19b-4577-a501-6a449cb024da"
      },
      "source": [
        "b[1, :] # getting all elements in the second row"
      ],
      "id": "461d70f6",
      "execution_count": null,
      "outputs": [
        {
          "data": {
            "text/plain": [
              "array([ 6,  7,  8,  9, 10])"
            ]
          },
          "execution_count": 22,
          "metadata": {},
          "output_type": "execute_result"
        }
      ]
    },
    {
      "cell_type": "code",
      "metadata": {
        "id": "663e7120",
        "outputId": "9ea0716f-fca3-4ab8-a133-8e6fab0c6621"
      },
      "source": [
        "b_copy = np.copy(b)\n",
        "b_copy[0, 0] = 10\n",
        "b_copy"
      ],
      "id": "663e7120",
      "execution_count": null,
      "outputs": [
        {
          "data": {
            "text/plain": [
              "array([[10,  2,  3,  4,  5],\n",
              "       [ 6,  7,  8,  9, 10]])"
            ]
          },
          "execution_count": 23,
          "metadata": {},
          "output_type": "execute_result"
        }
      ]
    },
    {
      "cell_type": "markdown",
      "metadata": {
        "id": "1a447e70"
      },
      "source": [
        "## Replacing Elements"
      ],
      "id": "1a447e70"
    },
    {
      "cell_type": "code",
      "metadata": {
        "id": "224af6aa",
        "outputId": "a241e269-50f1-48bd-b1c1-b6548f0adb09"
      },
      "source": [
        "c = np.array([[1, 2], [4, 5]])\n",
        "print(c)\n",
        "\n",
        "c[1, :] = [8, 8]\n",
        "c"
      ],
      "id": "224af6aa",
      "execution_count": null,
      "outputs": [
        {
          "name": "stdout",
          "output_type": "stream",
          "text": [
            "[[1 2]\n",
            " [4 5]]\n"
          ]
        },
        {
          "data": {
            "text/plain": [
              "array([[1, 2],\n",
              "       [8, 8]])"
            ]
          },
          "execution_count": 26,
          "metadata": {},
          "output_type": "execute_result"
        }
      ]
    },
    {
      "cell_type": "markdown",
      "metadata": {
        "id": "18e0e822"
      },
      "source": [
        "## Different Types of arrays"
      ],
      "id": "18e0e822"
    },
    {
      "cell_type": "code",
      "metadata": {
        "id": "2a1f6a5f",
        "outputId": "46da21f8-f3f8-4166-d77e-480ef3048f77"
      },
      "source": [
        "# Zeros\n",
        "z = np.zeros((2, 3), dtype='int32')\n",
        "z"
      ],
      "id": "2a1f6a5f",
      "execution_count": null,
      "outputs": [
        {
          "data": {
            "text/plain": [
              "array([[0, 0, 0],\n",
              "       [0, 0, 0]])"
            ]
          },
          "execution_count": 27,
          "metadata": {},
          "output_type": "execute_result"
        }
      ]
    },
    {
      "cell_type": "code",
      "metadata": {
        "id": "f7fe9ebe",
        "outputId": "21336ce6-f7dc-4897-be73-3d74ff246551"
      },
      "source": [
        "# Ones\n",
        "ones_example = np.ones((4, 1, 2), dtype='float32')\n",
        "ones_example"
      ],
      "id": "f7fe9ebe",
      "execution_count": null,
      "outputs": [
        {
          "data": {
            "text/plain": [
              "array([[[1., 1.]],\n",
              "\n",
              "       [[1., 1.]],\n",
              "\n",
              "       [[1., 1.]],\n",
              "\n",
              "       [[1., 1.]]], dtype=float32)"
            ]
          },
          "execution_count": 29,
          "metadata": {},
          "output_type": "execute_result"
        }
      ]
    },
    {
      "cell_type": "code",
      "metadata": {
        "id": "a752c32a",
        "outputId": "fe2ba604-feeb-46a4-e2a1-fc13459e31e9"
      },
      "source": [
        "# Full\n",
        "full_example = np.full((3, 3), 11)\n",
        "full_example"
      ],
      "id": "a752c32a",
      "execution_count": null,
      "outputs": [
        {
          "data": {
            "text/plain": [
              "array([[11, 11, 11],\n",
              "       [11, 11, 11],\n",
              "       [11, 11, 11]])"
            ]
          },
          "execution_count": 30,
          "metadata": {},
          "output_type": "execute_result"
        }
      ]
    },
    {
      "cell_type": "code",
      "metadata": {
        "id": "bcdba31c",
        "outputId": "d6d528f1-8ecb-49dd-dd52-e5c2b0e5e56e"
      },
      "source": [
        "# Random Numbers\n",
        "random_example = np.random.randint(-10, 20, size=(5, 5))\n",
        "random_example"
      ],
      "id": "bcdba31c",
      "execution_count": null,
      "outputs": [
        {
          "data": {
            "text/plain": [
              "array([[ -3,   9,   2,  15,  -6],\n",
              "       [  9,   0, -10,  15,  13],\n",
              "       [ -5,   8,   7,   0,  16],\n",
              "       [ -2,  16,  -5,   7,   8],\n",
              "       [  4,  -3,  18,  -1,  -2]])"
            ]
          },
          "execution_count": 31,
          "metadata": {},
          "output_type": "execute_result"
        }
      ]
    },
    {
      "cell_type": "code",
      "metadata": {
        "id": "bce45a63",
        "outputId": "8b543c35-beb9-4b93-802a-fd6cab04b547"
      },
      "source": [
        "# Random Numbers\n",
        "random_example2 = np.arange(-10, 10, step=3)\n",
        "random_example2"
      ],
      "id": "bce45a63",
      "execution_count": null,
      "outputs": [
        {
          "data": {
            "text/plain": [
              "array([-10,  -7,  -4,  -1,   2,   5,   8])"
            ]
          },
          "execution_count": 33,
          "metadata": {},
          "output_type": "execute_result"
        }
      ]
    },
    {
      "cell_type": "markdown",
      "metadata": {
        "id": "e4d852b3"
      },
      "source": [
        "## Linear Algebra"
      ],
      "id": "e4d852b3"
    },
    {
      "cell_type": "code",
      "metadata": {
        "id": "44c360a3",
        "outputId": "69cd1a56-5ee7-4eca-841f-69ed0d6fc954"
      },
      "source": [
        "mat_a = np.ones((2, 2))\n",
        "mat_b = np.full((2, 2), 3)\n",
        "\n",
        "print(mat_a)\n",
        "print(mat_b)\n",
        "\n",
        "mult = np.matmul(mat_a, mat_b)\n",
        "print('matrix multiplication: ', mult)\n",
        "\n",
        "det = np.linalg.det(mult)\n",
        "print('determinant of the multiplication: ', det)"
      ],
      "id": "44c360a3",
      "execution_count": null,
      "outputs": [
        {
          "name": "stdout",
          "output_type": "stream",
          "text": [
            "[[1. 1.]\n",
            " [1. 1.]]\n",
            "[[3 3]\n",
            " [3 3]]\n",
            "matrix multiplication:  [[6. 6.]\n",
            " [6. 6.]]\n",
            "determinant of the multiplication:  0.0\n"
          ]
        }
      ]
    },
    {
      "cell_type": "code",
      "metadata": {
        "id": "3907856c",
        "outputId": "f26b2996-21ea-4d9b-fba8-c706aec843f3"
      },
      "source": [
        "## Another Example\n",
        "iden = np.identity(3)\n",
        "print(iden)\n",
        "np.linalg.det(iden)"
      ],
      "id": "3907856c",
      "execution_count": null,
      "outputs": [
        {
          "name": "stdout",
          "output_type": "stream",
          "text": [
            "[[1. 0. 0.]\n",
            " [0. 1. 0.]\n",
            " [0. 0. 1.]]\n"
          ]
        },
        {
          "data": {
            "text/plain": [
              "1.0"
            ]
          },
          "execution_count": 41,
          "metadata": {},
          "output_type": "execute_result"
        }
      ]
    },
    {
      "cell_type": "markdown",
      "metadata": {
        "id": "7ce971ef"
      },
      "source": [
        "## Statistics"
      ],
      "id": "7ce971ef"
    },
    {
      "cell_type": "code",
      "metadata": {
        "id": "9d0d5655",
        "outputId": "13e122bc-9377-474c-c8a4-50a69f809031"
      },
      "source": [
        "stat_example = np.random.randint(0, 100, size=(3, 3))\n",
        "stat_example"
      ],
      "id": "9d0d5655",
      "execution_count": null,
      "outputs": [
        {
          "data": {
            "text/plain": [
              "array([[10, 91,  7],\n",
              "       [50,  7, 16],\n",
              "       [70, 98, 78]])"
            ]
          },
          "execution_count": 44,
          "metadata": {},
          "output_type": "execute_result"
        }
      ]
    },
    {
      "cell_type": "code",
      "metadata": {
        "id": "5a3c7462",
        "outputId": "ecb2ecec-1730-4e18-ebd3-dc1b48f18f6b"
      },
      "source": [
        "print('min: ', np.min(stat_example))\n",
        "print('max: ', np.max(stat_example))\n",
        "print('average: ', np.mean(stat_example))\n",
        "print('sum of all rows and columns: ', np.sum(stat_example))\n",
        "print('standard deviation: ', np.std(stat_example))"
      ],
      "id": "5a3c7462",
      "execution_count": null,
      "outputs": [
        {
          "name": "stdout",
          "output_type": "stream",
          "text": [
            "min:  7\n",
            "max:  98\n",
            "average:  47.44444444444444\n",
            "sum of all rows and columns:  427\n",
            "standard deviation:  35.845691236840636\n"
          ]
        }
      ]
    },
    {
      "cell_type": "markdown",
      "metadata": {
        "id": "dff4ecea"
      },
      "source": [
        "## Reorganizing"
      ],
      "id": "dff4ecea"
    },
    {
      "cell_type": "code",
      "metadata": {
        "id": "a472cdcb",
        "outputId": "7727e778-c54c-4940-8889-91550cf4ba45"
      },
      "source": [
        "before_reshape = np.array([1, 2, 3, 4, 5, 6, 7, 8])\n",
        "print(before_reshape)\n",
        "\n",
        "print(\"---------------------------\")\n",
        "\n",
        "after_reshape1 = np.reshape(before_reshape, (2, 4))\n",
        "print('2*4 matrix: ', after_reshape1)\n",
        "\n",
        "print(\"---------------------------\")\n",
        "\n",
        "after_reshape2 = np.reshape(before_reshape, (4, 2))\n",
        "print('4*2 matrix: ', after_reshape2)\n",
        "\n",
        "print(\"---------------------------\")\n",
        "\n",
        "after_reshape3 = np.reshape(before_reshape, (8, 1))\n",
        "print(after_reshape3)"
      ],
      "id": "a472cdcb",
      "execution_count": null,
      "outputs": [
        {
          "name": "stdout",
          "output_type": "stream",
          "text": [
            "[1 2 3 4 5 6 7 8]\n",
            "---------------------------\n",
            "2*4 matrix:  [[1 2 3 4]\n",
            " [5 6 7 8]]\n",
            "---------------------------\n",
            "4*2 matrix:  [[1 2]\n",
            " [3 4]\n",
            " [5 6]\n",
            " [7 8]]\n",
            "---------------------------\n",
            "[[1]\n",
            " [2]\n",
            " [3]\n",
            " [4]\n",
            " [5]\n",
            " [6]\n",
            " [7]\n",
            " [8]]\n"
          ]
        }
      ]
    },
    {
      "cell_type": "markdown",
      "metadata": {
        "id": "30a68232"
      },
      "source": [
        "## Vertically & Horizontaly Stacking Vectors"
      ],
      "id": "30a68232"
    },
    {
      "cell_type": "code",
      "metadata": {
        "id": "b4c9b894",
        "outputId": "833c1f42-78cd-4ba3-996b-99e8f8026d85"
      },
      "source": [
        "first = np.array([1, 2, 3, 4, 5])\n",
        "second = np.array([6, 7, 8, 9, 10])\n",
        "third = np.array([11, 12, 13, 14, 15])\n",
        "\n",
        "v_result = np.vstack([first, second, third, second])\n",
        "v_result"
      ],
      "id": "b4c9b894",
      "execution_count": null,
      "outputs": [
        {
          "data": {
            "text/plain": [
              "array([[ 1,  2,  3,  4,  5],\n",
              "       [ 6,  7,  8,  9, 10],\n",
              "       [11, 12, 13, 14, 15],\n",
              "       [ 6,  7,  8,  9, 10]])"
            ]
          },
          "execution_count": 57,
          "metadata": {},
          "output_type": "execute_result"
        }
      ]
    },
    {
      "cell_type": "code",
      "metadata": {
        "id": "1c236db0",
        "outputId": "0d3539e9-dca6-4a70-dd17-ac4daca232b8"
      },
      "source": [
        "first_t = np.transpose(first)\n",
        "second_t = np.transpose(second)\n",
        "third_t = np.transpose(third)\n",
        "\n",
        "h_result = np.hstack([first_t, second_t, third_t])\n",
        "h_result"
      ],
      "id": "1c236db0",
      "execution_count": null,
      "outputs": [
        {
          "data": {
            "text/plain": [
              "array([ 1,  2,  3,  4,  5,  6,  7,  8,  9, 10, 11, 12, 13, 14, 15])"
            ]
          },
          "execution_count": 60,
          "metadata": {},
          "output_type": "execute_result"
        }
      ]
    },
    {
      "cell_type": "markdown",
      "metadata": {
        "id": "4a5f202b"
      },
      "source": [
        "## Boolean"
      ],
      "id": "4a5f202b"
    },
    {
      "cell_type": "code",
      "metadata": {
        "id": "7eb55261",
        "outputId": "0d67c412-b9d8-47ce-b91f-cfd4b7c23af8"
      },
      "source": [
        "random_example = np.random.randint(-100, 100, size=(4, 4))\n",
        "random_example"
      ],
      "id": "7eb55261",
      "execution_count": null,
      "outputs": [
        {
          "data": {
            "text/plain": [
              "array([[  38,   82,   -2,  -18],\n",
              "       [  79,   73,   19,  -38],\n",
              "       [ -43,  -78, -100,   18],\n",
              "       [  95,   68,   62,  -57]])"
            ]
          },
          "execution_count": 61,
          "metadata": {},
          "output_type": "execute_result"
        }
      ]
    },
    {
      "cell_type": "code",
      "metadata": {
        "id": "10d998ad",
        "outputId": "43112513-5175-4098-c60f-895adb962f8d"
      },
      "source": [
        "random_example > 0"
      ],
      "id": "10d998ad",
      "execution_count": null,
      "outputs": [
        {
          "data": {
            "text/plain": [
              "array([[ True,  True, False, False],\n",
              "       [ True,  True,  True, False],\n",
              "       [False, False, False,  True],\n",
              "       [ True,  True,  True, False]])"
            ]
          },
          "execution_count": 62,
          "metadata": {},
          "output_type": "execute_result"
        }
      ]
    }
  ]
}