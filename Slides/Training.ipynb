{
  "nbformat": 4,
  "nbformat_minor": 0,
  "metadata": {
    "colab": {
      "name": "Training.ipynb",
      "provenance": [],
      "collapsed_sections": [],
      "authorship_tag": "ABX9TyNWgQZ7XSW+trvObv8j2Wfu",
      "include_colab_link": true
    },
    "kernelspec": {
      "name": "python3",
      "display_name": "Python 3"
    },
    "language_info": {
      "name": "python"
    }
  },
  "cells": [
    {
      "cell_type": "markdown",
      "metadata": {
        "id": "view-in-github",
        "colab_type": "text"
      },
      "source": [
        "<a href=\"https://colab.research.google.com/github/ehsansajadi/Statistics_TA/blob/main/Slides/Training.ipynb\" target=\"_parent\"><img src=\"https://colab.research.google.com/assets/colab-badge.svg\" alt=\"Open In Colab\"/></a>"
      ]
    },
    {
      "cell_type": "code",
      "metadata": {
        "id": "LUEYF8LHPbRT",
        "colab": {
          "base_uri": "https://localhost:8080/"
        },
        "outputId": "4098171d-8438-450e-cb8c-3241773e7081"
      },
      "source": [
        "str1 = 'sstem'\n",
        "str2 = 'system'\n",
        "print(str1[1:])\n",
        "print(str2[2:])"
      ],
      "execution_count": null,
      "outputs": [
        {
          "output_type": "stream",
          "name": "stdout",
          "text": [
            "stem\n",
            "stem\n"
          ]
        }
      ]
    },
    {
      "cell_type": "code",
      "metadata": {
        "id": "zAWW0P2OhrzQ",
        "colab": {
          "base_uri": "https://localhost:8080/"
        },
        "outputId": "5d064490-23c4-478e-c0e5-6df19874f104"
      },
      "source": [
        "dic = {1:'one', 2:'two'}\n",
        "print(dic)"
      ],
      "execution_count": null,
      "outputs": [
        {
          "output_type": "stream",
          "name": "stdout",
          "text": [
            "{1: 2, 2: 3}\n"
          ]
        }
      ]
    },
    {
      "cell_type": "code",
      "metadata": {
        "colab": {
          "base_uri": "https://localhost:8080/"
        },
        "id": "af_vx-37-vIZ",
        "outputId": "5fc3379c-dcaf-401e-e928-35ba7ff4d29f"
      },
      "source": [
        "del dic[1]\n",
        "print(dic)"
      ],
      "execution_count": null,
      "outputs": [
        {
          "output_type": "stream",
          "name": "stdout",
          "text": [
            "{2: 3}\n"
          ]
        }
      ]
    },
    {
      "cell_type": "code",
      "metadata": {
        "id": "f_DcTIhKgDvg",
        "colab": {
          "base_uri": "https://localhost:8080/"
        },
        "outputId": "6bf80a91-c993-43ec-dfd4-b957fac3be54"
      },
      "source": [
        "def f():\n",
        "  pass\n",
        "func = f\n",
        "print(func.__name__)"
      ],
      "execution_count": null,
      "outputs": [
        {
          "output_type": "stream",
          "name": "stdout",
          "text": [
            "f\n"
          ]
        }
      ]
    },
    {
      "cell_type": "code",
      "metadata": {
        "id": "QNiuIIJJWsM-"
      },
      "source": [
        ""
      ],
      "execution_count": null,
      "outputs": []
    }
  ]
}